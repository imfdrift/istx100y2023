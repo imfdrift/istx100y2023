{
 "cells": [
  {
   "cell_type": "markdown",
   "id": "34dd52e2-c82f-49af-a70c-9a69918187b8",
   "metadata": {},
   "source": [
    "# DOE eksempel 2: Produktuniformitet\n",
    "\n",
    "*Eksempelet og dataene er hentet fra National Institute of Standards and Technology (USA) https://www.itl.nist.gov/div898/handbook/pri/section3/pri3331.htm*\n",
    "\n",
    "En ingeniør skal undersøke hvilken av tre ulike instillinger på et produksjonsverktøy som har størst effekt på produktuniformitet. Responsvariabelen (\"produktuniformitet\") er et mål på avvik fra en bestemt standard. Ingeniøren vurdererte tre faktorer (maskin-instillinger) som vi kaller $A$, $B$ og $C$, og for hver av disse ble det bestemt et lavt og et høyt nivå. Dette er kodet som $x_1 = -1$ og $x_1 = +1$ for faktor $A$, $x_2 = -1$ og $x_2 = +1$ for faktor $B$, og $x_3 = -1$ og $x_3 = +1$ for faktor $C$.\n",
    "\n",
    "Det ble gjennomført et $2^3$ forsøk med gjentak, totalt 16 observasjoner. Forsøkene med faktorkombinasjoner og resultater er lagret i excel-fila produktuniformitet.xlsx."
   ]
  },
  {
   "cell_type": "code",
   "execution_count": 1,
   "id": "09579c0b-3766-4d59-b3be-d3580de14a8d",
   "metadata": {},
   "outputs": [],
   "source": [
    "import pandas as pd\n",
    "import seaborn as sns\n",
    "import matplotlib.pyplot as plt\n",
    "import numpy as np\n",
    "import statsmodels.api as sms\n",
    "import statsmodels.formula.api as smf\n",
    "from scipy import stats"
   ]
  },
  {
   "cell_type": "code",
   "execution_count": 2,
   "id": "ae234ebb-05f6-496a-99a4-e2d543753c0c",
   "metadata": {},
   "outputs": [],
   "source": [
    "run DOEfunksjoner.ipynb "
   ]
  },
  {
   "cell_type": "markdown",
   "id": "3dd048af-7062-4b28-9e18-265f75c12d19",
   "metadata": {},
   "source": [
    "Vi starter med å lese inn dataene fra excel-arket."
   ]
  },
  {
   "cell_type": "code",
   "execution_count": 4,
   "id": "7c183df6-e17f-4604-a6f2-4467081a440a",
   "metadata": {},
   "outputs": [
    {
     "data": {
      "text/html": [
       "<div>\n",
       "<style scoped>\n",
       "    .dataframe tbody tr th:only-of-type {\n",
       "        vertical-align: middle;\n",
       "    }\n",
       "\n",
       "    .dataframe tbody tr th {\n",
       "        vertical-align: top;\n",
       "    }\n",
       "\n",
       "    .dataframe thead th {\n",
       "        text-align: right;\n",
       "    }\n",
       "</style>\n",
       "<table border=\"1\" class=\"dataframe\">\n",
       "  <thead>\n",
       "    <tr style=\"text-align: right;\">\n",
       "      <th></th>\n",
       "      <th>x1</th>\n",
       "      <th>x2</th>\n",
       "      <th>x3</th>\n",
       "      <th>y1</th>\n",
       "      <th>y2</th>\n",
       "    </tr>\n",
       "  </thead>\n",
       "  <tbody>\n",
       "    <tr>\n",
       "      <th>0</th>\n",
       "      <td>-1</td>\n",
       "      <td>-1</td>\n",
       "      <td>-1</td>\n",
       "      <td>-3</td>\n",
       "      <td>-1</td>\n",
       "    </tr>\n",
       "    <tr>\n",
       "      <th>1</th>\n",
       "      <td>1</td>\n",
       "      <td>-1</td>\n",
       "      <td>-1</td>\n",
       "      <td>0</td>\n",
       "      <td>-1</td>\n",
       "    </tr>\n",
       "    <tr>\n",
       "      <th>2</th>\n",
       "      <td>-1</td>\n",
       "      <td>1</td>\n",
       "      <td>-1</td>\n",
       "      <td>-1</td>\n",
       "      <td>0</td>\n",
       "    </tr>\n",
       "    <tr>\n",
       "      <th>3</th>\n",
       "      <td>1</td>\n",
       "      <td>1</td>\n",
       "      <td>-1</td>\n",
       "      <td>2</td>\n",
       "      <td>3</td>\n",
       "    </tr>\n",
       "    <tr>\n",
       "      <th>4</th>\n",
       "      <td>-1</td>\n",
       "      <td>-1</td>\n",
       "      <td>1</td>\n",
       "      <td>-1</td>\n",
       "      <td>0</td>\n",
       "    </tr>\n",
       "    <tr>\n",
       "      <th>5</th>\n",
       "      <td>1</td>\n",
       "      <td>-1</td>\n",
       "      <td>1</td>\n",
       "      <td>2</td>\n",
       "      <td>1</td>\n",
       "    </tr>\n",
       "    <tr>\n",
       "      <th>6</th>\n",
       "      <td>-1</td>\n",
       "      <td>1</td>\n",
       "      <td>1</td>\n",
       "      <td>1</td>\n",
       "      <td>1</td>\n",
       "    </tr>\n",
       "    <tr>\n",
       "      <th>7</th>\n",
       "      <td>1</td>\n",
       "      <td>1</td>\n",
       "      <td>1</td>\n",
       "      <td>6</td>\n",
       "      <td>5</td>\n",
       "    </tr>\n",
       "  </tbody>\n",
       "</table>\n",
       "</div>"
      ],
      "text/plain": [
       "   x1  x2  x3  y1  y2\n",
       "0  -1  -1  -1  -3  -1\n",
       "1   1  -1  -1   0  -1\n",
       "2  -1   1  -1  -1   0\n",
       "3   1   1  -1   2   3\n",
       "4  -1  -1   1  -1   0\n",
       "5   1  -1   1   2   1\n",
       "6  -1   1   1   1   1\n",
       "7   1   1   1   6   5"
      ]
     },
     "execution_count": 4,
     "metadata": {},
     "output_type": "execute_result"
    }
   ],
   "source": [
    "data = pd.read_excel('produktuniformitet.xlsx')\n",
    "data"
   ]
  },
  {
   "cell_type": "markdown",
   "id": "f52a6843-611c-402f-8aff-958080f932cf",
   "metadata": {},
   "source": [
    "Merk at denne måten å registrere data på er hensiktsmessig for forsøk med gjentak, men passer ikke for å gjøre regresjonsanalyse. Vi lager oss derfor en pandas data frame der de to gjentakene kommer \"under hverandre\". "
   ]
  },
  {
   "cell_type": "code",
   "execution_count": 5,
   "id": "b817e52d-7020-44e5-81fe-75bbf4aa77c7",
   "metadata": {},
   "outputs": [],
   "source": [
    "# Vi må få dataene over på et format som passer til regresjonsanalysen\n",
    "df1 = data.iloc[:8, :4]\n",
    "df1.rename(columns = {'y1':'y'}, inplace = True)\n",
    "df2 = data.iloc[:8, [0, 1, 2, 4]]\n",
    "df2.rename(columns = {'y2':'y'}, inplace = True)\n",
    "df = pd.concat([df1, df2], axis=0)\n",
    "#df skriv ut for å se hvordan dataene nå er sortert"
   ]
  },
  {
   "cell_type": "markdown",
   "id": "41416971-a5f4-474d-b3e6-b5d65e07145a",
   "metadata": {},
   "source": [
    "## Plott av hovedeffekter og samspillseffekter\n",
    "\n",
    "Vi begynner med å visualisere hovedeffekter for tre faktorene, og deretter samspill. Merk at et forsøk kan ha mange høyere ordens effekter; i dette tilfellet tre forskjellige tofaktorsamspill ($AB$, $AC$ og $BC$) og et trefaktorsamspill ($ABC$). Vi skal undersøke tofaktorsamspillene her, men vi går ut ifra at høyere ordens sampspill er neglisjerbare. "
   ]
  },
  {
   "cell_type": "code",
   "execution_count": 6,
   "id": "0daddf88-7539-4194-8e81-fe4d25d5f534",
   "metadata": {},
   "outputs": [
    {
     "data": {
      "image/png": "[encoded data removed]",
      "text/plain": [
       "<Figure size 576x288 with 3 Axes>"
      ]
     },
     "metadata": {
      "needs_background": "light"
     },
     "output_type": "display_data"
    }
   ],
   "source": [
    "hovedeffektsplott(data = df, k = 3, observasjoner = True)"
   ]
  },
  {
   "cell_type": "markdown",
   "id": "e9e4a0b0-96bb-46a1-98cc-d6cf5d7e8076",
   "metadata": {},
   "source": [
    "Fra hovedeffektsplottene ser vi svært like effekter av de tre faktorene A, B og C."
   ]
  },
  {
   "cell_type": "code",
   "execution_count": 8,
   "id": "37753fd0-b093-44c3-a8f2-0b6f70aa0ab8",
   "metadata": {},
   "outputs": [
    {
     "data": {
      "image/png": "[encoded data removed]",
      "text/plain": [
       "<Figure size 576x576 with 6 Axes>"
      ]
     },
     "metadata": {
      "needs_background": "light"
     },
     "output_type": "display_data"
    }
   ],
   "source": [
    "samspillsplott(data = df, k = 3)"
   ]
  },
  {
   "cell_type": "markdown",
   "id": "b8fa4e43-a679-4a48-951d-b739bfdeefcd",
   "metadata": {},
   "source": [
    "I figuren over ser vi tre sampspillsplott. Øverst til venstre ser vi effekten av faktor $B$ når $A$ er på lavt ($x_1 = -1$) og høyt $(x_1 = +1)$ nivå. Øverst til høyre ser vi effekten av faktor $B$ når $A$ er på lavt og høyt nivå. Nederst til høyre ser vi effekten av $C$ når $B$ er på lavt ($x_2 = -1$) og høyt ($x_2 = +1$) nivå. I samspillsplottet til $AB$ ser vi at de to linjene har ganske ulikt stigningstall. Dette kan tyde på at det finnes indikasjoner i dataene på et samspill mellom faktorene $A$ og $B$. "
   ]
  },
  {
   "cell_type": "markdown",
   "id": "f1245be5-581f-4e5f-bab0-5eb273892948",
   "metadata": {},
   "source": [
    "## Multippel lineær regresjon\n",
    "Vi bruker Python til å tilpasse en multippel lineær regresjonsmodell med alle tofaktorsamspill og trefaktor samspill. "
   ]
  },
  {
   "cell_type": "code",
   "execution_count": 9,
   "id": "28b482b5-2f0e-4e65-a9aa-4f97def6dc0b",
   "metadata": {},
   "outputs": [
    {
     "name": "stdout",
     "output_type": "stream",
     "text": [
      "                            OLS Regression Results                            \n",
      "==============================================================================\n",
      "Dep. Variable:                      y   R-squared:                       0.939\n",
      "Model:                            OLS   Adj. R-squared:                  0.885\n",
      "Method:                 Least Squares   F-statistic:                     17.54\n",
      "Date:                Mon, 23 Oct 2023   Prob (F-statistic):           0.000290\n",
      "Time:                        11:20:46   Log-Likelihood:                -13.398\n",
      "No. Observations:                  16   AIC:                             42.80\n",
      "Df Residuals:                       8   BIC:                             48.98\n",
      "Df Model:                           7                                         \n",
      "Covariance Type:            nonrobust                                         \n",
      "==============================================================================\n",
      "                 coef    std err          t      P>|t|      [0.025      0.975]\n",
      "------------------------------------------------------------------------------\n",
      "Intercept      0.8750      0.198      4.427      0.002       0.419       1.331\n",
      "x1             1.3750      0.198      6.957      0.000       0.919       1.831\n",
      "x2             1.2500      0.198      6.325      0.000       0.794       1.706\n",
      "x3             1.0000      0.198      5.060      0.001       0.544       1.456\n",
      "x1:x2          0.5000      0.198      2.530      0.035       0.044       0.956\n",
      "x2:x3          0.1250      0.198      0.632      0.545      -0.331       0.581\n",
      "x1:x3          0.2500      0.198      1.265      0.242      -0.206       0.706\n",
      "x1:x2:x3       0.1250      0.198      0.632      0.545      -0.331       0.581\n",
      "==============================================================================\n",
      "Omnibus:                        2.314   Durbin-Watson:                   1.950\n",
      "Prob(Omnibus):                  0.314   Jarque-Bera (JB):                1.025\n",
      "Skew:                           0.000   Prob(JB):                        0.599\n",
      "Kurtosis:                       1.760   Cond. No.                         1.00\n",
      "==============================================================================\n",
      "\n",
      "Notes:\n",
      "[1] Standard Errors assume that the covariance matrix of the errors is correctly specified.\n"
     ]
    },
    {
     "name": "stderr",
     "output_type": "stream",
     "text": [
      "/Users/theabj/opt/anaconda3/lib/python3.9/site-packages/scipy/stats/stats.py:1541: UserWarning: kurtosistest only valid for n>=20 ... continuing anyway, n=16\n",
      "  warnings.warn(\"kurtosistest only valid for n>=20 ... continuing \"\n"
     ]
    }
   ],
   "source": [
    "modell = smf.ols('y~x1+x2+x3 + x1*x2 + x2*x3 + x1*x3 + x1*x2*x3', data=df).fit()\n",
    "print(modell.summary())"
   ]
  },
  {
   "cell_type": "markdown",
   "id": "d2b15c67-4060-4c98-9f92-ea87212e6d3b",
   "metadata": {},
   "source": [
    "Vi ser at alle hovedeffektene til faktoren $A$, $B$ og $C$ er signifikante ($p$-verdiene er lavere enn $0.05$). Hovedeffektene er \n",
    "\n",
    "$\\hat{A} = 2 \\cdot 1.375 = 2.75$, \n",
    "\n",
    "$\\hat{B} = 2 \\cdot 1.250 = 2.50$,\n",
    "\n",
    "$\\hat{C} = 2 \\cdot 1.000 = 2.00$.\n",
    "\n",
    "Vi ser også at samspillet mellom faktorene $A$ og $B$ er signifikant. Effektene er visualisert i Paretoplottet under."
   ]
  },
  {
   "cell_type": "code",
   "execution_count": 10,
   "id": "a1857ada-e4db-49c6-8829-98ec73ea4591",
   "metadata": {},
   "outputs": [
    {
     "data": {
      "image/png": "[encoded data removed]",
      "text/plain": [
       "<Figure size 432x288 with 1 Axes>"
      ]
     },
     "metadata": {
      "needs_background": "light"
     },
     "output_type": "display_data"
    }
   ],
   "source": [
    "DOEparetoplott(modell)"
   ]
  },
  {
   "cell_type": "code",
   "execution_count": 12,
   "id": "b1dd7331-425b-43c8-b70a-8e0e09223176",
   "metadata": {},
   "outputs": [
    {
     "name": "stdout",
     "output_type": "stream",
     "text": [
      "0.791\n"
     ]
    }
   ],
   "source": [
    "# til slutt kan det være nyttig å skrive ut estimatet på variansen og standardavviket til Y:\n",
    "varY = modell.mse_resid\n",
    "sdY = np.sqrt(varY)\n",
    "print(round(sdY,3))"
   ]
  },
  {
   "cell_type": "markdown",
   "id": "3c246284-2581-436d-831e-3f05a0274742",
   "metadata": {},
   "source": [
    "## Konklusjon\n",
    "\n",
    "Vi observerer at både hovedeffekter og samspillseffekter har positivt fortegn. Det vil si at høye nivåer av faktorene alltid er forbundet med økt respons. I dette tilfellet er økt respons det samme som høyere produktuniformitet, som er et ønskelig resultat. Produksjonsverktøyet bør derfor stilles inn på høyt nivå for alle faktorer. Dersom ikke alle faktorer kan stilles på høyt nivå bør faktorene $A$ og $B$ prioriteres da disse har størst hovedeffekt i tillegg til et positivt samspill."
   ]
  },
  {
   "cell_type": "markdown",
   "id": "06a514c8-1189-4b72-97a8-7f5810712488",
   "metadata": {},
   "source": [
    "## Diskusjon\n",
    "\n",
    "I dette eksempelet har vi sett en analyse av resulatetene fra et $2^3$ faktorielt forsøk med gjentak. Det er rekke svakheter i problembeskrivelsen som er hentet fra NIST (national institute of standards and technology). Vi vet verken hvordan responsvariabelen i praksis ble regnet ut, og vi vet veldig lite om de tre faktorene $A$, $B$ og $C$. I et skikkelig forsøk må dette beskrives slik at forsøket både kan forstås og reproduseres. I dette forsøket ser vi også at responsverdien er registrert i heltallsverdier, noe som ikke nødvendigvis passer godt med normalantagelsen. \n",
    "\n",
    "For å sjekke normalantagelsen kan vi plotte et QQ-plott på samme måte som i Fellesmodulen Uke 9. Vi ser QQ-plottet i figuren under. Vi ser en slags trappe-effekt i QQ-plottet fordi observasjonene av $Y$ har heltallsverdier, men ellers ser vi ingen iøyenfallende avvik fra den røde linja. Normaltilnærmingen ser ut til å være OK for dataene. "
   ]
  },
  {
   "cell_type": "code",
   "execution_count": 60,
   "id": "1713fc17-01f5-4474-b845-776ca2f96e85",
   "metadata": {},
   "outputs": [
    {
     "data": {
      "image/png": "[encoded data removed]",
      "text/plain": [
       "<Figure size 432x288 with 1 Axes>"
      ]
     },
     "metadata": {
      "needs_background": "light"
     },
     "output_type": "display_data"
    }
   ],
   "source": [
    "sms.qqplot(modell.resid,line='45',fit=True)\n",
    "plt.ylabel(\"Kvantiler i residualene\")\n",
    "plt.xlabel(\"Kvantiler i normalfordelingen\")\n",
    "plt.show()"
   ]
  }
 ],
 "metadata": {
  "kernelspec": {
   "display_name": "Python 3 (ipykernel)",
   "language": "python",
   "name": "python3"
  },
  "language_info": {
   "codemirror_mode": {
    "name": "ipython",
    "version": 3
   },
   "file_extension": ".py",
   "mimetype": "text/x-python",
   "name": "python",
   "nbconvert_exporter": "python",
   "pygments_lexer": "ipython3",
   "version": "3.9.12"
  }
 },
 "nbformat": 4,
 "nbformat_minor": 5
}
