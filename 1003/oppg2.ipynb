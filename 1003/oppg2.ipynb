{
 "cells": [
  {
   "cell_type": "markdown",
   "id": "e93c0cae-ebf6-4bad-9f3b-e170bda4f629",
   "metadata": {},
   "source": [
    "# Oppgave 2 - Klassifikasjon (30%)<a name=\"oppgave2\"></a>"
   ]
  },
  {
   "cell_type": "markdown",
   "id": "62d78386-8e77-4ef0-a20b-66591a6aedab",
   "metadata": {
    "tags": []
   },
   "source": [
    "*Oppgave 2 består av 4 deler med til sammen 15 spørsmål, der alle spørsmål (2a.1), 2a.2) etc.) teller likt. Oppgave 2 teller totalt 30 % av prosjektet.*\n",
    "\n",
    "**Oppgaven inneholder følgende elementer:**\n",
    "\n",
    "* Laste inn og utforske et datasett for klassifikasjon\n",
    "* Dele datasettet inn i treningssett, valideringssett og testsett\n",
    "* Tilpasse en logistisk regresjon og bruke denne til å klassifisere\n",
    "* Utføre $k$-nærmeste nabo-klassifikasjon\n",
    "* Evaluere godhet av klassifikasjonsresultatene\n",
    "\n",
    "## Innholdsfortegnelse\n",
    "* [Ble det hjemmeseier?](#intro)\n",
    "* [Oppgave 2a) Lese inn og preprosessere data](#oppgave2a)\n",
    "* [Oppgave 2b) Logistisk regresjon](#oppgave2b)\n",
    "* [Oppgave 2c) $k$-nærmeste-nabo-klassifikasjon](#oppgave2c)\n",
    "* [Oppgave 2d) Evaluere beste modeller](#oppgave2d)\n"
   ]
  },
  {
   "cell_type": "markdown",
   "id": "2676a4a0-6989-41db-8abb-ceff84a67df8",
   "metadata": {},
   "source": [
    "### Ble det hjemmeseier?<a name=\"intro\"></a>\n",
    "\n",
    "Datasettet vi skal se på er fra de fire øverste divisjonene i engelsk fotball, i sesongen 2022-2023, og oppgaven går ut på å tilpasse ulike metoder for å predikere om hjemmelaget vinner en gitt kamp utifra data på antall skudd på mål, cornere og forseelser (regelbrudd som fører til frispark eller straffespark).\n",
    "\n",
    "Mer informasjon om dataene: https://www.football-data.co.uk/englandm.php."
   ]
  },
  {
   "cell_type": "code",
   "execution_count": null,
   "id": "6c2d777d-bee7-4417-adfc-1669500ac49b",
   "metadata": {},
   "outputs": [],
   "source": [
    "# importere pakker og funksjoner vi trenger i oppgave 2\n",
    "import numpy as np\n",
    "import pandas as pd\n",
    "import matplotlib.colors as mcolors\n",
    "import matplotlib.pyplot as plt\n",
    "import matplotlib.lines as mlines\n",
    "import seaborn as sns\n",
    "from scipy import stats\n",
    "import statsmodels.formula.api as smf\n",
    "import statsmodels.api as sm\n",
    "from sklearn.model_selection import train_test_split\n",
    "from sklearn.metrics import accuracy_score\n",
    "from sklearn.neighbors import KNeighborsClassifier"
   ]
  },
  {
   "cell_type": "markdown",
   "id": "49f7a978-5fe3-4057-93ae-695e8e51749e",
   "metadata": {},
   "source": [
    "### Oppgave 2a) Lese inn og preprosessere data<a name=\"oppgave2a\"></a>\n",
    "\n",
    "*Oppgave 2a) inneholder 5 spørsmål du skal svare på.*\n",
    "\n",
    "Datasettet vi skal jobbe med inneholder informasjon om fotballkamper i engelsk fotball. Dataene finnes i fire forskjellige filer, og hver fil inneholder informasjon om kampene i en gitt divisjon. Vi laster inn dataene fra hver fil og kombinerer dem. Etter vi har gjort dette har datasettet $2036$ rader og $106$ kolonner. En gitt rad tilsvarer en gitt kamp og en gitt kolonne tilsvarer en type informasjon (f.eks. antall cornere hjemmelaget hadde). Kolonner som begynner på `H` angår hjemmelaget og `A` angår bortelaget.\n",
    "\n",
    "I en gitt kamp vinner enten hjemmelaget, eller så vinner ikke hjemmelaget (uavgjort eller borteseier). Resultatet av en kamp er dermed at:\n",
    "* hjemmelaget vinner - kodet som $1$\n",
    "* hjemmelaget vinner ikke - kodet som $0$.\n",
    "\n",
    "Kampresultatet ($0$ eller $1$) legger vi i kolonnen `y`, som skal være hva vi vil predikere/klassifisere.\n",
    "\n",
    "Vi skal ikke se på alle variablene i datasettet, og skal i tillegg til `y` konsentrere oss om kolonnene\n",
    "\n",
    "* `HST`, `AST`: antall skudd på mål for henholdsvis hjemmelaget og bortelaget\n",
    "* `HC`, `AC`: antall cornere for henholdsvis hjemmelaget og bortelaget\n",
    "* `HF`, `AF`: antall forseelser for henholdsvis hjemmelaget og bortelaget\n",
    "\n",
    "Istedenfor å se direkte på disse tre antallene for de to lagene, ser vi heller på *differansene* for hver kamp. Vi lager de nye variablene\n",
    "\n",
    "* `skudd_paa_maal_diff`=`HST`-`AST`\n",
    "* `corner_diff`=`HC`-`AC`\n",
    "* `forseelse_diff`=`HF`-`AF`\n",
    "\n",
    "og dette skal være forklaringsvariablene våre.\n",
    "\n",
    "_Oppsummert_: Observasjonsenheten i dataene er en fotballkamp, vi har tre forklaringsvariabler `skudd_paa_maal_diff`, `corner_diff` og `forseelse_diff`, mens `y` (0 eller 1) er responsen vi ønsker å predikere.\n",
    "\n",
    "\n",
    "Koden under leser inn dataene, lager de nye variablene og putter alt inn i en ny data frame. Etter det er gjort har vi en datasett med $2036$ rader (kamper) og $4$ kolonner (variabler)."
   ]
  },
  {
   "cell_type": "code",
   "execution_count": null,
   "id": "51a8935f-098e-4e86-88c1-88fbd658da7c",
   "metadata": {},
   "outputs": [],
   "source": [
    "# Lese inn datasettene ved funksjon fra pandas (df=data frame - vanlig navn å gi et datasett)\n",
    "df0 = pd.read_csv(\"https://www.math.ntnu.no/emner/IST100x/ISTx1003/h2023/E0.csv\", sep = ',') # Premier League\n",
    "df1 = pd.read_csv(\"https://www.math.ntnu.no/emner/IST100x/ISTx1003/h2023/E1.csv\", sep = ',') # Championship\n",
    "df2 = pd.read_csv(\"https://www.math.ntnu.no/emner/IST100x/ISTx1003/h2023/E2.csv\", sep = ',') # League 1\n",
    "df3 = pd.read_csv(\"https://www.math.ntnu.no/emner/IST100x/ISTx1003/h2023/E3.csv\", sep = ',') # League 2\n",
    "\n",
    "# Sett sammen datasettene til 1 data-frame\n",
    "df_in=pd.concat([df0,\n",
    "                 df1,\n",
    "                 df2,\n",
    "                 df3], ignore_index = True)\n",
    "df=pd.concat([pd.Series(np.where(df_in['FTR'] == 'H', 1, 0)),\n",
    "              df_in['HST']-df_in['AST'], \n",
    "              df_in['HC']-df_in['AC'],\n",
    "              df_in['HF']-df_in['AF']], axis = 1)\n",
    "\n",
    "# Henter ut de dataene vi er interessert i\n",
    "df.columns=['y', 'skudd_paa_maal_diff', 'corner_diff', 'forseelse_diff']\n",
    "print(df.describe())"
   ]
  },
  {
   "cell_type": "markdown",
   "id": "71d26a96-c60c-48b3-bcf5-0e8d8f190f0e",
   "metadata": {},
   "source": [
    "\n",
    "Videre vil vi dele datasettet vårt inn i tre datasett: et treningssett, et valideringssett og et testsett. Først deler vi data inn i 80\\% trening/validering og 20\\% test, og deretter deler vi trening/valideringssettet inn i 75\\% trening og 25\\% validering.\n"
   ]
  },
  {
   "cell_type": "code",
   "execution_count": null,
   "id": "0deb5ede-2b49-42dc-a446-d09f7ded3e55",
   "metadata": {},
   "outputs": [],
   "source": [
    "df_trenval, df_test = train_test_split(df, test_size = 0.2, random_state = 1, stratify = df['y'])\n",
    "df_tren, df_val = train_test_split(df_trenval, test_size = 0.25, random_state = 1, stratify = df_trenval['y'])\n",
    "print(\"treningssett: \\n\", df_tren.shape)\n",
    "print(df_tren.describe())\n",
    "print(df_tren[\"y\"].value_counts())\n",
    "print(\"\\nvalideringssett: \\n\", df_val.shape)\n",
    "print(df_val.describe())\n",
    "print(df_val[\"y\"].value_counts())\n",
    "print(\"\\ntestsett: \\n\", df_test.shape)\n",
    "print(df_test.describe())\n",
    "print(df_test[\"y\"].value_counts())"
   ]
  },
  {
   "cell_type": "markdown",
   "id": "d25cea8c-8718-4603-871c-7527e30c3da1",
   "metadata": {},
   "source": [
    "I denne oppgaven skal vi etterhvert tilpasse logistisk regresjon og $k$-nærmeste nabo-klassifikasjon.\n",
    "\n",
    "**2a.1)** Hvorfor ønsker vi å dele dataene inn i trening-, validering- og test-sett?\n",
    "\n",
    "**2a.2)** Hvor stor andel av dataene er nå i hver av de tre settene? Ser de tre datasettene ut til å ha lik fordeling for de tre forklaringsvariablene og responsen?\n",
    "\n",
    "**2a.3)** La oss si at vi hadde valgt League 1 og 2 som treningssett, Championship som valideringssett, og Premier League som testsett. Hvorfor hadde dette vært dumt?\n",
    "\n",
    "For å utforske dataene lager vi kryssplott av de tre forklaringsvariablene for treningsdataene og fargelegger punktene fra kampene etter hvorvidt det var hjemmeseier eller ikke. På diagonalen ser vi empiriske tetthetsplott (glattet variant av et histogram). Under har vi også regnet ut empirisk korrelasjonskoeffisient for alle par av variabler."
   ]
  },
  {
   "cell_type": "code",
   "execution_count": null,
   "id": "d6b7043b-ca0b-4581-a8ca-8f6f2cd87bf5",
   "metadata": {},
   "outputs": [],
   "source": [
    "sns.pairplot(df_tren, vars = ['skudd_paa_maal_diff','corner_diff','forseelse_diff'],\n",
    "             hue = 'y', \n",
    "             diag_kind = 'kde',\n",
    "             plot_kws = dict(alpha = 0.4))\n",
    "plt.show()"
   ]
  },
  {
   "cell_type": "code",
   "execution_count": null,
   "id": "83192f11-67ea-4b56-be1b-4a55f7b15865",
   "metadata": {},
   "outputs": [],
   "source": [
    "corr = df_tren.corr()\n",
    "display(corr.style.background_gradient(cmap = 'coolwarm', axis = None, vmin = -1, vmax = 1))\n",
    "plt.show()"
   ]
  },
  {
   "cell_type": "markdown",
   "id": "85be8de0-1830-4a11-a02f-e9efd13b301c",
   "metadata": {
    "tags": []
   },
   "source": [
    "**2a.4)** Kommenter kort på hva du ser i plottene og utskriften (maks 5 setninger).\n",
    "\n",
    "**2a.5)** Hvilke(n) av de tre variablene tror du vil være god(e) til å bruke til å predikere om det blir hjemmeseier? Begrunn svaret kort (maks 3 setninger)."
   ]
  },
  {
   "cell_type": "markdown",
   "id": "4ed08585-d450-4680-a677-792db93639c8",
   "metadata": {},
   "source": [
    "### Oppgave 2b) Logistisk regresjon<a name=\"oppgave2b\"></a>\n",
    "\n",
    "*Oppgave 2b) inneholder 5 spørsmål du skal svare på.*\n",
    "\n",
    "Vi tilpasser en logistisk regresjon til treningssettet, og regner ut feilrate for valideringssettet gitt at vi klassifiserer som suksess (hjemmeseier) når sannsynligheten for hjemmeseier er anslått til minst 0.5.\n",
    "\n",
    "Dette gjør vi med de samme stegene som det vi gjorde for multippel lineær regresjon:\n",
    "\n",
    "1) Bli kjent med dataene ved å se på oppsummeringsmål og ulike typer plott\n",
    "2) Spesifisere en matematisk modell (modellformel)\n",
    "3) Initialisere og tilpasse modellen\n",
    "4) Presentere resultater fra den tilpassede modellen\n",
    "5) Evaluere om modellen passer til dataene\n",
    "\n",
    "Vi er ferdige med Steg 1, og gjør så Steg 2-4 under."
   ]
  },
  {
   "cell_type": "code",
   "execution_count": null,
   "id": "27c64947-428b-4c56-beec-b69632645e85",
   "metadata": {},
   "outputs": [],
   "source": [
    "# Steg 2: Modellformel\n",
    "formel = \"y ~ skudd_paa_maal_diff + corner_diff + forseelse_diff\"\n",
    "\n",
    "# Steg 3: Initialiser modellen \n",
    "modell = smf.logit(formel, data = df_tren)\n",
    "\n",
    "# Tilpass modellen\n",
    "resultat = modell.fit()\n",
    "\n",
    "# Steg 4: Presenter koeffisient-verdier (betaer) fra den tilpassede modellen \n",
    "print(\"\\nKoeffisentverdier:\\n\\n\", resultat.params)"
   ]
  },
  {
   "cell_type": "markdown",
   "id": "d8a897d3-e04d-4876-9416-d5628501e186",
   "metadata": {},
   "source": [
    "**2b.1)** I en kamp der `skudd_paa_maal_diff` er $2$, `corner_diff` er $-2$ og `forseelse_diff` er $6$, hva er ifølge modellen sannsynligheten for at hjemmelaget vinner? Vis utregninger og/eller kode, og oppgi svaret med tre desimaler.\n",
    "\n",
    "**2b.2)** Hvordan kan du tolke verdien av $e^{\\beta_{\\texttt{skudd_paa_maal_diff}}}$?"
   ]
  },
  {
   "cell_type": "code",
   "execution_count": null,
   "id": "f0e6e914-1cab-4c50-b417-81e63fb54993",
   "metadata": {},
   "outputs": [],
   "source": [
    "# her kan du skrive kode for å regne ut exp(beta)\n",
    "np.exp(0)"
   ]
  },
  {
   "cell_type": "markdown",
   "id": "fe43483d-1fc3-4a7f-b84f-c45aaea7448c",
   "metadata": {},
   "source": [
    "**2b.3)** Hva angir feilraten til modellen? Hvilket datasett er feilraten regnet ut fra? Er du fornøyd med verdien til feilraten?"
   ]
  },
  {
   "cell_type": "code",
   "execution_count": null,
   "id": "e0b16fb0-fe11-42bc-bd2c-2c029f4bdc0f",
   "metadata": {},
   "outputs": [],
   "source": [
    "# Spesifiser verdi for cutoff\n",
    "cutoff = 0.5\n",
    "\n",
    "# Prediker verdi for valideringssettet\n",
    "val_pred = resultat.predict(exog = df_val)\n",
    "\n",
    "# Klassifiser som seier for hjemmelaget hvis sannsynligheten for at hjemmelaget vant er over 0.5\n",
    "y_valpred = np.where(val_pred > cutoff, 1, 0)\n",
    "y_valobs = df_val['y']\n",
    "\n",
    "# Finn feilrate\n",
    "print(\"Feilrate:\", 1 - accuracy_score(y_true = y_valobs, y_pred = y_valpred))"
   ]
  },
  {
   "cell_type": "markdown",
   "id": "6d648edb-4b42-4403-ad24-3e117e5a3777",
   "metadata": {},
   "source": [
    "Tilpass nå den logistiske regresjonen uten `forseelse_diff` som forklaringsvariabel - ved å kopiere koden over (men ikke den gamle formelen).\n",
    "\n",
    "**2b.4)** Diskuter kort hvordan koeffisientene ($\\beta$-ene) og feilraten endrer seg når `forseelse_diff` tas ut av modellen (maks 3 setninger).\n",
    "\n",
    "**2b.5)** Med den nye modellen: I en kamp der `skudd_paa_maal_diff` $= 2$, `corner_diff` $= -2$ og `forseelse_diff` $= 6$, hva er sannsynligheten for at hjemmelaget vinner ifølge den nye modellen? Oppgi svaret med tre desimaler.\n",
    "\n",
    "**2b.6)** Hvis du skal finne en så god som mulig klassifikasjonsmodell med logistisk regresjon, vil du velge modellen med eller uten `forseelse_diff` som forklaringsvariabel? Begrunn kort svaret (maks 3 setninger)."
   ]
  },
  {
   "cell_type": "code",
   "execution_count": null,
   "id": "df7be372-a2bb-4692-a7c3-83a18c00d9e8",
   "metadata": {},
   "outputs": [],
   "source": [
    "# her kan du lime inn kode for å svare på 2b.4) til 2b.6)"
   ]
  },
  {
   "cell_type": "markdown",
   "id": "b7f07e89-3d0f-43e4-a5e2-c2b540a35cdd",
   "metadata": {},
   "source": [
    "### Oppgave 2c) $k$-nærmeste-nabo-klassifikasjon<a name=\"oppgave2c\"></a>\n",
    "\n",
    "*Oppgave 2c) inneholder 2 spørsmål du skal svare på.*\n",
    "\n",
    "Vi skal nå kun se på forklaringsvariablene `skudd_paa_maal_diff` og `corner_diff`, og tilpasse $k$-nærmeste-nabo-metoden der vi bruker euklidsk avstand som avstandsmål. Vi bruker valideringssettet til å velge $k$.\n",
    "\n",
    "Koden under tilpasser $k$-nærmeste nabo-klassifikasjon for ulike verdier for $k$, deretter regnes feilrate ut på valideringssettet og plottes."
   ]
  },
  {
   "cell_type": "code",
   "execution_count": null,
   "id": "ee6d8ef6-dcfa-42c9-b6ba-e7eb3dcc1e4e",
   "metadata": {},
   "outputs": [],
   "source": [
    "knaboer = np.arange(1, 251, step = 2)\n",
    "val_feilrate = np.empty(len(knaboer))\n",
    "\n",
    "X_tren = df_tren[['skudd_paa_maal_diff', 'corner_diff']] # bruker bare disse to forklaringsvariablene\n",
    "X_val = df_val[['skudd_paa_maal_diff', 'corner_diff']] \n",
    "\n",
    "for i,k in enumerate(knaboer):\n",
    "    \n",
    "    # Initialiser kNN med  k neighbors\n",
    "    knn = KNeighborsClassifier(n_neighbors = k, p = 2) # p = 2 gir euklidsk avstand\n",
    "\n",
    "    # Tilpass modellen med treningssettet\n",
    "    knn.fit(X_tren, df_tren['y'])\n",
    "    \n",
    "    # Beregn feilrate på valideringssett\n",
    "    # score er accuracy = \"andel korrekt\"\n",
    "    val_feilrate[i] = 1 - knn.score(X_val, df_val['y'])\n",
    "    \n",
    "# Lage plott\n",
    "plt.title('k-NN for ulike verdier av antall naboer k')\n",
    "plt.plot(knaboer, val_feilrate, label = 'Feilrate på valideringssettet')\n",
    "plt.legend()\n",
    "plt.xlabel('Antall naboer k')\n",
    "plt.ylabel('Feilrate')\n",
    "plt.show()\n",
    "\n",
    "valres=np.vstack((knaboer, val_feilrate))\n",
    "print(\"Valideringsfeilrate:\")\n",
    "print(valres.T)"
   ]
  },
  {
   "cell_type": "markdown",
   "id": "f8af08f2-0c99-4872-9402-ea2fc1fdb597",
   "metadata": {},
   "source": [
    "**2c.1)** Påstand: kNN kan bare brukes når vi har maksimalt to forklaringsvariabler. Fleip eller fakta?\n",
    "\n",
    "**2c.2)** Hvilken verdi av $k$ vil du velge? Hvorfor?"
   ]
  },
  {
   "cell_type": "markdown",
   "id": "beca284e-a018-4838-a8f6-45d5550d6fc1",
   "metadata": {},
   "source": [
    "### Oppgave 2d) Evaluere beste modeller<a name=\"oppgave2d\"></a>\n",
    "\n",
    "*Oppgave 2d) inneholder 2 spørsmål du skal svare på.*\n",
    "\n",
    "Nå tar vi frem testsettet og sammenligner den beste modellen for logistisk regresjon med den beste for $k$-nærmeste-nabo-klassifikasjon.\n",
    "\n",
    "**Gjør nødvendige endringer i koden under.**\n",
    "\n",
    "**2d.1)** Gjør logistisk regresjon eller $k$-nærmeste-nabo-klassifikasjon det best på fotballkampdataene?\n",
    "\n",
    "**2d.2)** Drøft klassegrensene (plottet under) for de to beste modellene (én logistisk regresjon og én kNN). Hva forteller klassegrensene deg om problemet? Skriv maksimalt 3 setninger."
   ]
  },
  {
   "cell_type": "code",
   "execution_count": null,
   "id": "413f677c-1e61-49e6-a030-35810b07de1f",
   "metadata": {},
   "outputs": [],
   "source": [
    "# beste resultat for logistisk regresjon\n",
    "bestelogist = 0 # hva er navnet på resultatobjektet fra den logistiske regresjon du valgte? var det den med eller uten forseelse_diff?\n",
    "test_pred = bestelogist.predict(exog = df_test)\n",
    "y_testpred = np.where(test_pred > cutoff, 1, 0)\n",
    "y_testobs = df_test['y']\n",
    "print(\"Feilrate logistisk regresjon:\", 1 - accuracy_score(y_true = y_testobs, y_pred = y_testpred))\n",
    "\n",
    "# beste resultat for kNN\n",
    "bestek = 0 # hva er din beste k?\n",
    "knn = KNeighborsClassifier(n_neighbors = bestek, p = 2)\n",
    "knn.fit(X_tren, df_tren['y'])\n",
    "X_test=df_test[['skudd_paa_maal_diff', 'corner_diff']]\n",
    "print(\"Feilrate kNN:\", 1 - knn.score(X_test, df_test['y']))"
   ]
  },
  {
   "cell_type": "code",
   "execution_count": null,
   "id": "81c7e6dd-7b29-4aba-ad18-c6f259e8028d",
   "metadata": {},
   "outputs": [],
   "source": [
    "# Plotting av klassegrensene for de beste modellene!\n",
    "\n",
    "# Set the data to be plotted\n",
    "n = 100  # Step size\n",
    "\n",
    "# Function to add jitter to data\n",
    "def jitter(data, factor=0.2):\n",
    "    # Add random noise to the data\n",
    "    return data + np.random.uniform(-factor, factor, data.shape)\n",
    "\n",
    "# Create a grid for plotting\n",
    "x_min, x_max = X_tren['skudd_paa_maal_diff'].min() - 0.5, X_tren['skudd_paa_maal_diff'].max() + 0.5\n",
    "y_min, y_max = X_tren['corner_diff'].min() - 0.5, X_tren['corner_diff'].max() + 0.5\n",
    "xx, yy = np.meshgrid(np.linspace(x_min, x_max, n),\n",
    "                     np.linspace(y_min, y_max, n))\n",
    "\n",
    "# Create a temporary DataFrame with feature names\n",
    "temp_df = pd.DataFrame(np.c_[xx.ravel(), yy.ravel()], columns=['skudd_paa_maal_diff', 'corner_diff'])\n",
    "\n",
    "# Predict using the KNeighborsClassifier with temporary feature names\n",
    "Z_knn = knn.predict(temp_df)\n",
    "\n",
    "# Reshape Z_knn to match the shape of xx\n",
    "Z_knn = Z_knn.reshape(xx.shape)\n",
    "\n",
    "# Plot the class boundary for Logistic Regression\n",
    "beta0 = resultat.params[0]\n",
    "beta1 = resultat.params['skudd_paa_maal_diff']\n",
    "beta2 = resultat.params['corner_diff']\n",
    "x_lr = np.linspace(-3, 5.25, n)\n",
    "y_lr = -beta0 / beta2 - x_lr * beta1 / beta2\n",
    "\n",
    "# Create a custom color map for the plot\n",
    "cmap = mcolors.ListedColormap(['#d8b365', '#5ab4ac'])\n",
    "\n",
    "# Create a figure and axes\n",
    "fig, ax = plt.subplots(figsize=(10, 8))\n",
    "\n",
    "# Plot the decision boundaries\n",
    "ax.contourf(xx, yy, Z_knn, cmap=cmap, alpha=0.6, levels=1, antialiased=True, linestyles='dashed')\n",
    "ax.plot(x_lr, y_lr, color = \"black\", label='Logistic Class Boundary', linewidth=2)\n",
    "\n",
    "# Scatter plot for the training data\n",
    "jittered_X_tren = jitter(X_tren[['skudd_paa_maal_diff', 'corner_diff']].values)\n",
    "scatter = ax.scatter(jittered_X_tren[:, 0], jittered_X_tren[:, 1], c=df_tren['y'], cmap=cmap, s=10)\n",
    "plt.colorbar(scatter, ax=ax, label='Class')\n",
    "\n",
    "# Add labels and a title\n",
    "ax.set_xlabel('Skudd på mål-differanse', fontsize=14)\n",
    "ax.set_ylabel('Corner-differense', fontsize=14)\n",
    "ax.set_title('Klassegrense for de beste modellene', fontsize=16)\n",
    "\n",
    "# Create custom legend elements for Klasse 0 and Klasse 1\n",
    "legend_elements = [\n",
    "    mlines.Line2D([], [], marker='s', color='w', markerfacecolor='#d8b365', markersize=10, label='Klasse 0 (KNN)', linestyle='None'),\n",
    "    mlines.Line2D([], [], marker='s', color='w', markerfacecolor='#5ab4ac', markersize=10, label='Klasse 1 (KNN)', linestyle='None'),\n",
    "    mlines.Line2D([], [], color='black', lw=2, label='Klassegrense (logistisk regresjon)')\n",
    "]\n",
    "\n",
    "# Add legend for class boundaries\n",
    "ax.legend(handles=legend_elements, title=\"Klasser\", loc='lower right')\n",
    "\n",
    "# Show the plot\n",
    "plt.show()"
   ]
  },
  {
   "cell_type": "markdown",
   "id": "718e9dca-793d-476c-9175-dd62318365ab",
   "metadata": {},
   "source": [
    "[Til toppen.](#top)"
   ]
  },
  {
   "cell_type": "code",
   "execution_count": null,
   "id": "cd6197d5-192b-4138-b6fb-9816d91760e3",
   "metadata": {},
   "outputs": [],
   "source": []
  }
 ],
 "metadata": {
  "kernelspec": {
   "display_name": "Python 3",
   "language": "python",
   "name": "python3"
  },
  "language_info": {
   "codemirror_mode": {
    "name": "ipython",
    "version": 3
   },
   "file_extension": ".py",
   "mimetype": "text/x-python",
   "name": "python",
   "nbconvert_exporter": "python",
   "pygments_lexer": "ipython3",
   "version": "3.8.8"
  }
 },
 "nbformat": 4,
 "nbformat_minor": 5
}
