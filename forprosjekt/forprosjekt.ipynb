{
 "cells": [
  {
   "cell_type": "markdown",
   "id": "cd0653b5-fb9f-43e2-bf83-0aa2c2651f08",
   "metadata": {},
   "source": [
    "# Forprosjekt i ISTx100y\n",
    "\n",
    "I forprosjektet skal gruppene forsøke å gjennomføre et lite \"data science\" prosjekt med utgangspunkt i en (nesten) tom Jupyter Notatbok\n",
    "\n",
    "I tillegg til å skrive kontrakt og gruppediskusjon skal dere:\n",
    "- Samle inn observasjoner og lagre et datasett (ved å fortsette på et datasett vi har gitt dere)\n",
    "- Laste data inn i Python\n",
    "- Plotte observasjoner og en enkel regresjonslinje (minste kvadratsum)\n",
    "- Lagre figuren \n",
    "\n",
    "Denne utfordringen vil komme til nytte når dere jobber med det tellende prosjektarbeidet senere. Vi mener også at dette er helt nødvendige ferdigheter for alle som tar en teknisk utdannelse!"
   ]
  },
  {
   "cell_type": "code",
   "execution_count": null,
   "id": "f7013093-2000-45d6-914c-df05817d145f",
   "metadata": {},
   "outputs": [],
   "source": [
    "# vi anbefaler at du bruker disse pakkene\n",
    "\n",
    "import pandas as pd # lese inn data fra csv eller xls/xlsx\n",
    "import seaborn as sns # anbefalt for plotting av data og regresjonslinje: sns.regplot\n",
    "import matplotlib.pyplot as plt # mer plotting, anbefalt for lagring av figur: plt.savefig\n",
    "import numpy as np # matematikk\n",
    "import statsmodels.api as sms # regresjon\n",
    "import statsmodels.formula.api as smf # formel for regresjon"
   ]
  },
  {
   "cell_type": "code",
   "execution_count": null,
   "id": "ded8b15f-1c86-4262-af4e-a1e74dad2283",
   "metadata": {},
   "outputs": [],
   "source": [
    "# lese inn data\n"
   ]
  },
  {
   "cell_type": "code",
   "execution_count": null,
   "id": "f15752c9-3eaf-4ae2-b1fa-286ed8f3086c",
   "metadata": {},
   "outputs": [],
   "source": [
    "# regresjonslinje\n"
   ]
  },
  {
   "cell_type": "code",
   "execution_count": null,
   "id": "395fd792-d68e-4521-bb51-8ac5ed895ad6",
   "metadata": {},
   "outputs": [],
   "source": [
    "# plott og lagre figur\n"
   ]
  }
 ],
 "metadata": {
  "kernelspec": {
   "display_name": "Python 3 (ipykernel)",
   "language": "python",
   "name": "python3"
  },
  "language_info": {
   "codemirror_mode": {
    "name": "ipython",
    "version": 3
   },
   "file_extension": ".py",
   "mimetype": "text/x-python",
   "name": "python",
   "nbconvert_exporter": "python",
   "pygments_lexer": "ipython3",
   "version": "3.9.12"
  }
 },
 "nbformat": 4,
 "nbformat_minor": 5
}
