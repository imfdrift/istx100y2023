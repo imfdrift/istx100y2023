{
 "cells": [
  {
   "cell_type": "markdown",
   "metadata": {},
   "source": [
    "# Personbiler i Norge"
   ]
  },
  {
   "cell_type": "markdown",
   "metadata": {},
   "source": [
    "Datasettet `personbildata.csv` er konstruert fra statistikkbanken \"Bilparken\", tabell 07849, fra statistisk senstralbyrå (https://www.ssb.no/statbank/list/bilreg/). Datasettet innholder tall på antall registrerte personbiler i årene 2008 til 2020, gruppert i henhold til drivstofftypene bensin, diesel, el., og annet (inkludert hybrid). Fra SSB får man data per kommune, men her har vi allerede aggregert dataene over alle kommuner slik at tallene representerer antall biler i hver drivstoff-kategori over hele landet. "
   ]
  },
  {
   "cell_type": "markdown",
   "metadata": {},
   "source": [
    "## Læringsmål: Kategoriske data\n",
    "\n",
    "### Delmål\n",
    "1. Lese inn .csv fil og gjøre seg kjent med et enkelt datasett\n",
    "2. Plotte kategoriske data i stolpediagram \n",
    "3. Plotte utvikling av kategoriene over tid\n",
    "\n",
    "*Hva er relevant for tellende vurdering? Erfaringen med å håndtere datasett i Python får du nytte av i den tellende prosjektoppgaven, og i resten av utdanningen din. Du skal ikke skrive kode selv på eksamen, men du må kunne lese, tolke og forklare utskrift og plott fra ulike statistikk-beregninger i Python.*"
   ]
  },
  {
   "cell_type": "markdown",
   "metadata": {},
   "source": [
    "## Steg 1: Laste inn nødvendige python-pakker\n",
    "\n",
    "Notebook-tips: Kjør koden som henter inn pakkene ved å trykke på feltet under og deretter knappen \"Run\" øverst på kommandolinja, eller bruk tastatursnarveien cmd + enter."
   ]
  },
  {
   "cell_type": "code",
   "execution_count": null,
   "metadata": {},
   "outputs": [],
   "source": [
    "import pandas as pd # lese data fra csv-fil\n",
    "import seaborn as sns # plotting\n",
    "sns.set(style = 'whitegrid', font_scale = 1.5) # utseende av plott\n",
    "import matplotlib.pyplot as plt # og mer plotting\n",
    "import numpy as np # matematikk"
   ]
  },
  {
   "cell_type": "markdown",
   "metadata": {},
   "source": [
    "## Steg 2: Lese inn og se på datasettet\n"
   ]
  },
  {
   "cell_type": "code",
   "execution_count": null,
   "metadata": {},
   "outputs": [],
   "source": [
    "df = pd.read_csv('https://www.math.ntnu.no/emner/IST100x/python_felles/personbildata.csv',index_col=0) # lese inn datasettet (cvs-fil med radnavn)"
   ]
  },
  {
   "cell_type": "code",
   "execution_count": null,
   "metadata": {},
   "outputs": [],
   "source": [
    "df.shape  # Dimensjonen til datasettet"
   ]
  },
  {
   "cell_type": "code",
   "execution_count": null,
   "metadata": {},
   "outputs": [],
   "source": [
    "df # se på hele datasettet (dette kan vi gjøre fordi dimensjonen er liten)"
   ]
  },
  {
   "cell_type": "markdown",
   "metadata": {},
   "source": [
    "## Steg 3: Stolpediagram for andeler av hver drivstofftype i år 2020"
   ]
  },
  {
   "cell_type": "code",
   "execution_count": null,
   "metadata": {},
   "outputs": [],
   "source": [
    "df2020 = df.iloc[12,].to_frame().transpose()  # Hente ut rad 12 (2020) til ny pandas DataFrame\n",
    "df2020"
   ]
  },
  {
   "cell_type": "code",
   "execution_count": null,
   "metadata": {},
   "outputs": [],
   "source": [
    "df2020 = df2020.div(df2020.sum(axis=1),axis=0) # Bytte ut antall med andel\n",
    "df2020"
   ]
  },
  {
   "cell_type": "code",
   "execution_count": null,
   "metadata": {},
   "outputs": [],
   "source": [
    "palette = sns.color_palette([\"#d55e00\",\"#0072b2\",\"#009e73\", \"#f0e442\"]) \n",
    "# palette = farger for de fire drivstoff-kategoriene\n",
    "# Har hentet fargeblind-vennlige palett fra https://www.color-hex.com/color-palette/49436\n",
    "\n",
    "sns.barplot(data = df2020, palette = palette) \n",
    "# Plotter et enkelt stolpediagram (barplot) med Seaborn-modulen"
   ]
  },
  {
   "cell_type": "code",
   "execution_count": null,
   "metadata": {},
   "outputs": [],
   "source": [
    "df2020sort = df2020.sort_values(by = 2020,axis=1,ascending=False)\n",
    "# Sorterer dataene fra største til minste andel\n",
    "df2020sort"
   ]
  },
  {
   "cell_type": "code",
   "execution_count": null,
   "metadata": {},
   "outputs": [],
   "source": [
    "# Plotter de sorterte dataene (og sorterer fargene) \n",
    "palette_sort = sns.color_palette([\"#0072b2\",\"#d55e00\",\"#009e73\", \"#f0e442\"])\n",
    "\n",
    "sns.barplot(data = df2020sort,palette = palette_sort)"
   ]
  },
  {
   "cell_type": "markdown",
   "metadata": {},
   "source": [
    "## Steg 4: Plotte utvikling  over tid"
   ]
  },
  {
   "cell_type": "code",
   "execution_count": null,
   "metadata": {},
   "outputs": [],
   "source": [
    "df_andel = df.div(df.sum(axis=1),axis=0) # Lager et datasett med årlige andeler i stedet for antall\n",
    "\n",
    "# Plotter utvikling i andeler av hver kategori med et Seaborn lineplot\n",
    "sns.lineplot(data = df_andel,palette = palette)\n",
    "plt.ylim(0,1); plt.xlim(2008,2020)"
   ]
  }
 ],
 "metadata": {
  "kernelspec": {
   "display_name": "Python 3 (ipykernel)",
   "language": "python",
   "name": "python3"
  },
  "language_info": {
   "codemirror_mode": {
    "name": "ipython",
    "version": 3
   },
   "file_extension": ".py",
   "mimetype": "text/x-python",
   "name": "python",
   "nbconvert_exporter": "python",
   "pygments_lexer": "ipython3",
   "version": "3.9.12"
  }
 },
 "nbformat": 4,
 "nbformat_minor": 4
}
