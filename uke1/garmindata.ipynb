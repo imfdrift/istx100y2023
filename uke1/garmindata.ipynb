{
 "cells": [
  {
   "cell_type": "markdown",
   "metadata": {},
   "source": [
    "# Sensordata fra Garmin løpeklokke"
   ]
  },
  {
   "cell_type": "markdown",
   "metadata": {},
   "source": [
    "Datasettet `garmindata.csv` har vi lastet ned fra en personlig brukerkonto på connect.garmin.com. Datasettet består av sensormålinger fra 56 løpeturer, f.eks. tid, avstand, høydemeter, stegfreksens og puls. I tillegg regner løpeklokkens programvare ut andre størrelser slik som estimert kaloriforbuk. Vi er hovedsakelig interresert i sammenhengen mellom *tid og distanse*. "
   ]
  },
  {
   "cell_type": "markdown",
   "metadata": {},
   "source": [
    "## Læringsmål: Korrelasjon og minste kvadratsums rette linje (regresjonslinje)\n",
    "\n",
    "### Delmål\n",
    "1. Laste inn og behandle et komplekst datasett\n",
    "2. Plotte kryssplott, identifisere og håndtere uteliggere\n",
    "3. Regne ut korrelasjon og regresjonslinje\n",
    "\n",
    "*Hva er relevant for tellende vurdering? Erfaringen med å håndtere datasett i Python får du nytte av i den tellende prosjektoppgaven, og i resten av utdanningen din. Du skal ikke skrive kode selv på eksamen, men du må kunne lese, tolke og forklare utskrift og plott fra ulike statistikk-beregninger i Python.*"
   ]
  },
  {
   "cell_type": "markdown",
   "metadata": {},
   "source": [
    "## Steg 1: Laste inn nødvendige python-pakker"
   ]
  },
  {
   "cell_type": "code",
   "execution_count": null,
   "metadata": {},
   "outputs": [],
   "source": [
    "import pandas as pd # lese data fra csv-fil og bruke DataFrames\n",
    "import seaborn as sns # plotting\n",
    "sns.set(style = 'whitegrid', font_scale = 1.5) # utseende av plott\n",
    "import matplotlib.pyplot as plt # mer plotting\n",
    "import numpy as np # matematikk\n",
    "import statsmodels.api as sms # regresjonen\n",
    "import statsmodels.formula.api as smf # formel for regresjonen"
   ]
  },
  {
   "cell_type": "markdown",
   "metadata": {},
   "source": [
    "## Steg 2: Lese inn og behandle data"
   ]
  },
  {
   "cell_type": "code",
   "execution_count": null,
   "metadata": {},
   "outputs": [],
   "source": [
    "df = pd.read_csv('https://www.math.ntnu.no/emner/IST100x/python_felles/garmindata.csv')\n",
    "df.shape # dimenensjonen til datasettet"
   ]
  },
  {
   "cell_type": "code",
   "execution_count": null,
   "metadata": {},
   "outputs": [],
   "source": [
    "print(df.columns) # Alle kolonnenavn"
   ]
  },
  {
   "cell_type": "code",
   "execution_count": null,
   "metadata": {},
   "outputs": [],
   "source": [
    "# Merk at en del kolonnenavn inneholder punktum\n",
    "# Dette er generelt uheldig når vi programmerer, så vi \n",
    "# erstatter alle punktum med underscore\n",
    "\n",
    "df.columns = df.columns.str.replace(\"[.]\", \"_\")"
   ]
  },
  {
   "cell_type": "code",
   "execution_count": null,
   "metadata": {},
   "outputs": [],
   "source": [
    "df.head() # ser på de 5 første linjene i datasettet"
   ]
  },
  {
   "cell_type": "markdown",
   "metadata": {},
   "source": [
    "Merk at kolonnen 'Time' inneholder tid på formatet timer:minutter:sekunder. Dette må vi kode om til desimaltall, og det mest naturlige er å bruke minutter som enhet. "
   ]
  },
  {
   "cell_type": "code",
   "execution_count": null,
   "metadata": {},
   "outputs": [],
   "source": [
    "# Vi lager oss en funksjon som koder fra timer:minutter:sekunder til minutter\n",
    "\n",
    "def get_min(time_str):\n",
    "    h, m, s = time_str.split(':')\n",
    "    return round(int(h)*60 + int(m) + int(s)/60 , 2)\n",
    "\n",
    "# Lager en TimeMin kolonne i datasettet\n",
    "df['TimeMin'] = df['Time'].apply(get_min)"
   ]
  },
  {
   "cell_type": "markdown",
   "metadata": {},
   "source": [
    "## Steg 2: Kryssplott og kvalitetskontroll\n",
    "\n",
    "Tabellen vi har lastet inn er for stor til at vi klarer å kvalitetssjekke observasjoner og få et inntrykk av dataene. Siden vi hovedsakelig er interessert i sammenhengen mellom *tid og distanse* plotter vi et kryssplott av disse observasjonene. "
   ]
  },
  {
   "cell_type": "code",
   "execution_count": null,
   "metadata": {
    "scrolled": true
   },
   "outputs": [],
   "source": [
    "# Plotter tid mot distanse for å få et intrykk av datasettet\n",
    "\n",
    "sns.relplot(x='Distance', y='TimeMin',data = df)\n",
    "plt.xlim(0,10); plt.ylim(0,60)\n",
    "\n",
    "plt.ylabel('Tid [min]'); plt.xlabel('Distanse [km]')\n",
    "\n",
    "# Vi identifiserer en \"rar\" observasjon:\n",
    "# En løpetur på under 4 km som tok over 30 minutter!\n",
    "# Kanskje er dette en gåtur som har blit feilregistrert?"
   ]
  },
  {
   "cell_type": "code",
   "execution_count": null,
   "metadata": {},
   "outputs": [],
   "source": [
    "# Vi ser på observasjonene av gjennomsnittshastighet, Avg.Pace\n",
    "# tips: print(df.columns) kan brukes for å se på alle kolonnetitlene\n",
    "# Merk: Avg.Pace er skrevet i min:sek per kilometer\n",
    "# Vi lager oss derfor en ny kolonne med minutter som desimaltall\n",
    "def get_min2(time_str):\n",
    "    m, s = time_str.split(':')\n",
    "    return round(int(m) + int(s)/60 , 2)\n",
    "\n",
    "df['Hastighet'] = df['Avg_Pace'].apply(get_min2)\n",
    "\n",
    "# Plotter boksplott over hastighet\n",
    "sns.boxplot(y = 'Hastighet', data = df)\n",
    "\n",
    "# Her ser vi en klar uteligger! \n",
    "# En hastighet (min/km) på voer 9 minutter per kilometer betyr at dette var en \n",
    "# gåtur og hører ikke hjemme i løpe-tur datasettet"
   ]
  },
  {
   "cell_type": "code",
   "execution_count": null,
   "metadata": {},
   "outputs": [],
   "source": [
    "np.argmax(df['Hastighet']) # Hvilken index har uteliggeren?"
   ]
  },
  {
   "cell_type": "code",
   "execution_count": null,
   "metadata": {},
   "outputs": [],
   "source": [
    "# Fjerner uteligger fra datasettet og lager det samme kryssplottet som før\n",
    "dfny = df.drop(21)\n",
    "sns.relplot(x='Distance', y='TimeMin',data = dfny)\n",
    "plt.xlim(0,10); plt.ylim(0,60)\n",
    "plt.ylabel('Tid [min]'); plt.xlabel('Distanse [km]')"
   ]
  },
  {
   "cell_type": "code",
   "execution_count": null,
   "metadata": {},
   "outputs": [],
   "source": [
    "dfny.to_csv('garmindata2.csv',index = False)"
   ]
  },
  {
   "cell_type": "code",
   "execution_count": null,
   "metadata": {},
   "outputs": [],
   "source": [
    "dfny.shape"
   ]
  },
  {
   "cell_type": "markdown",
   "metadata": {},
   "source": [
    "## Steg 3: Korrelasjon og regresjonslinje"
   ]
  },
  {
   "cell_type": "code",
   "execution_count": null,
   "metadata": {},
   "outputs": [],
   "source": [
    "# Regne ut korrelasjon (med Pandas)\n",
    "round(dfny['Distance'].corr(dfny['TimeMin']),3)"
   ]
  },
  {
   "cell_type": "code",
   "execution_count": null,
   "metadata": {},
   "outputs": [],
   "source": [
    "# Regne ut regresjonslinja (minste kvadratsum) og skrive ut resultatet\n",
    "regresjon = smf.ols('TimeMin~Distance', data=dfny).fit()\n",
    "regresjon.params"
   ]
  },
  {
   "cell_type": "code",
   "execution_count": null,
   "metadata": {},
   "outputs": [],
   "source": [
    "# Plotte observasjoner og regresjonslinje\n",
    "sns.lmplot(x = 'Distance', y = 'TimeMin', data = dfny, ci = None)\n",
    "plt.xlim(0,10); plt.ylim(0,60)  \n",
    "plt.ylabel('Tid [min]'); plt.xlabel('Distanse [km]')\n",
    "plt.savefig('plot4.png',bbox_inches='tight') "
   ]
  },
  {
   "cell_type": "markdown",
   "metadata": {},
   "source": [
    "## Bonus: illustrasjon av datasett med lavere korrelasjon"
   ]
  },
  {
   "cell_type": "code",
   "execution_count": null,
   "metadata": {},
   "outputs": [],
   "source": [
    "sns.relplot(x='Elev_Gain', y='Calories',data = dfny, color = \"darkgreen\")"
   ]
  }
 ],
 "metadata": {
  "kernelspec": {
   "display_name": "Python 3 (ipykernel)",
   "language": "python",
   "name": "python3"
  },
  "language_info": {
   "codemirror_mode": {
    "name": "ipython",
    "version": 3
   },
   "file_extension": ".py",
   "mimetype": "text/x-python",
   "name": "python",
   "nbconvert_exporter": "python",
   "pygments_lexer": "ipython3",
   "version": "3.9.12"
  }
 },
 "nbformat": 4,
 "nbformat_minor": 4
}
