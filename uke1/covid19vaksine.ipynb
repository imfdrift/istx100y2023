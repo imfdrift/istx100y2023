{
 "cells": [
  {
   "cell_type": "markdown",
   "metadata": {},
   "source": [
    "# Vaksinasjonsdata Covid19"
   ]
  },
  {
   "cell_type": "markdown",
   "metadata": {},
   "source": [
    "Tallene som vises her ble hentet 15. april 2021 klokka 08:05 fra FHIs nettsier https://statistikk.fhi.no/sysvak. På denne siden fant vi oppdaterte data på antall vaksinerte personer i Norge (første og andre dose) Totalt antall personer (i ulike aldersgrupper) per 1. januar 2021 har vi hentet fra Statistisk Sentralbyrå https://www.ssb.no/befolkning/statistikker/folkemengde/aar-per-1-januar (Tabell 2)."
   ]
  },
  {
   "cell_type": "markdown",
   "metadata": {},
   "source": [
    "## Læringsmål: Diskrete data\n",
    "\n",
    "### Delmål\n",
    "1. Hente data fra en nettside og sette opp et enkelt datasett\n",
    "2. Regne ut gjennomsnitt og median\n",
    "3. Plotte diskrete data i et histogram\n",
    "4. Plotte diskrete data gruppevis\n",
    "\n",
    "*Hva er relevant for tellende vurdering? Erfaringen med å håndtere datasett i Python får du nytte av i den tellende prosjektoppgaven, og i resten av utdanningen din. Du skal ikke skrive kode selv på eksamen, men du må kunne lese, tolke og forklare utskrift og plott fra ulike statistikk-beregninger i Python.*"
   ]
  },
  {
   "cell_type": "markdown",
   "metadata": {},
   "source": [
    "## Steg 1: Laste inn nødvendige python-pakker\n",
    "\n",
    "Notebook-tips: Kjør koden som henter inn pakkene ved å trykke på feltet under og deretter knappen \"Run\" øverst på kommandolinja, eller bruk tastatursnarveien cmd + enter."
   ]
  },
  {
   "cell_type": "code",
   "execution_count": null,
   "metadata": {},
   "outputs": [],
   "source": [
    "import pandas as pd # lese data fra excel-fil\n",
    "import seaborn as sns # plotting\n",
    "sns.set(style = 'whitegrid', font_scale = 1.5) # utseende av plott\n",
    "import matplotlib.pyplot as plt # og mer plotting\n",
    "import numpy as np # matematikk\n",
    "import statistics  # statistikk-funksjoner"
   ]
  },
  {
   "cell_type": "markdown",
   "metadata": {},
   "source": [
    "## Steg 2: Lage et datasett"
   ]
  },
  {
   "cell_type": "code",
   "execution_count": null,
   "metadata": {
    "tags": []
   },
   "outputs": [],
   "source": [
    "antall_kvinner = 2671280 - 137359 - 151289 - 159684 # (over 15 år) per 1. januar 2021 (SSB)\n",
    "antall_menn = 2718017 - 145601 - 159283 - 168370 # (over 15 år) per 1. januar 2021 (SSB)\n",
    "dose1_kvinner = 581889 # per 15. april 2021\n",
    "dose2_kvinner = 188971 # per 15. april 2021\n",
    "dose1_menn = 379749 # per 15. april 2021\n",
    "dose2_menn = 109886 # per 15. april 2021\n",
    "\n",
    "dose0_kvinner = antall_kvinner - dose1_kvinner - dose2_kvinner\n",
    "dose0_menn = antall_menn - dose1_menn - dose2_menn\n",
    "\n",
    "vaksine = {'kvinner': [dose0_kvinner, dose1_kvinner, dose2_kvinner],\n",
    "            'menn': [dose0_menn, dose1_menn, dose2_menn],\n",
    "          'total': [dose0_kvinner + dose0_menn, \n",
    "                    dose1_kvinner + dose1_menn, \n",
    "                    dose2_kvinner + dose2_menn]}\n",
    "vaksine"
   ]
  },
  {
   "cell_type": "code",
   "execution_count": null,
   "metadata": {},
   "outputs": [],
   "source": [
    "# Legge dataene i en pandas DataFrame\n",
    "df = pd.DataFrame(vaksine)\n",
    "df"
   ]
  },
  {
   "cell_type": "markdown",
   "metadata": {},
   "source": [
    "## Steg 3: Regne ut gjennomsnitt og median"
   ]
  },
  {
   "cell_type": "code",
   "execution_count": null,
   "metadata": {},
   "outputs": [],
   "source": [
    "# Gjennomsnitt kan vi regne ut direkte fra tabellen\n",
    "gjsnitt = (0*df.iloc[0,2] + 1*df.iloc[1,2] + 2*df.iloc[2,2])/(df.iloc[0,2]+df.iloc[1,2] + df.iloc[2,2])\n",
    "gjsnitt"
   ]
  },
  {
   "cell_type": "code",
   "execution_count": null,
   "metadata": {},
   "outputs": [],
   "source": [
    "# Median kan vi f.eks finne dersom vi lager oss en liste med vaksinedose for hver person\n",
    "# (OBS: For april-dataene kan vi direkte lese av median = 0 fra tabellen)\n",
    "vaksinedoser = [0]*df.iloc[0,2] + [1]*df.iloc[1,2] + [2]*df.iloc[2,2] # Legger sammen lister av 0, 1, og 2 vaksinedoser med lengder som spesifisert i tabell\n",
    "\n",
    "statistics.median(vaksinedoser)"
   ]
  },
  {
   "cell_type": "markdown",
   "metadata": {},
   "source": [
    "## Steg 4: Regne ut andeler og plotte histogram"
   ]
  },
  {
   "cell_type": "code",
   "execution_count": null,
   "metadata": {},
   "outputs": [],
   "source": [
    "# Regner vi ut andeler og lagrer i ny DataFrame\n",
    "dfandel = df.div(df.sum(axis=0),axis=1)\n",
    "dfandel['dose'] = [0,1,2]\n",
    "dfandel"
   ]
  },
  {
   "cell_type": "code",
   "execution_count": null,
   "metadata": {},
   "outputs": [],
   "source": [
    "# Så plotter vi andeler personer mot antall vaksinedoser\n",
    "sns.barplot(x = 'dose', y = 'total', data = dfandel, color = 'steelblue')\n",
    "plt.ylabel(\"Andel personer over 15 år\")\n",
    "plt.xlabel(\"Antall doser\")"
   ]
  },
  {
   "cell_type": "markdown",
   "metadata": {},
   "source": [
    "## Steg 5: Plotte histogram for grupper"
   ]
  },
  {
   "cell_type": "code",
   "execution_count": null,
   "metadata": {},
   "outputs": [],
   "source": [
    "# For å enklest plotte grupperte data må vi endre \n",
    "# formen på datasettet med funksjonen 'melt'\n",
    "\n",
    "dfandelkjønn = dfandel[['dose','menn','kvinner']].melt('dose', var_name = 'kjønn')\n",
    "dfandelkjønn"
   ]
  },
  {
   "cell_type": "code",
   "execution_count": null,
   "metadata": {},
   "outputs": [],
   "source": [
    "sns.barplot(x = 'dose', y = 'value', hue = 'kjønn', data = dfandelkjønn)\n",
    "plt.ylabel(\"Andel kvinner og menn over 15 år\")\n",
    "plt.xlabel(\"Antall doser\")"
   ]
  }
 ],
 "metadata": {
  "kernelspec": {
   "display_name": "Python 3 (ipykernel)",
   "language": "python",
   "name": "python3"
  },
  "language_info": {
   "codemirror_mode": {
    "name": "ipython",
    "version": 3
   },
   "file_extension": ".py",
   "mimetype": "text/x-python",
   "name": "python",
   "nbconvert_exporter": "python",
   "pygments_lexer": "ipython3",
   "version": "3.9.12"
  }
 },
 "nbformat": 4,
 "nbformat_minor": 4
}
