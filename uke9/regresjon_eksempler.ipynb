{
 "cells": [
  {
   "cell_type": "markdown",
   "metadata": {},
   "source": [
    "# Eksempler på datasett for lineær regresjon"
   ]
  },
  {
   "cell_type": "code",
   "execution_count": null,
   "metadata": {},
   "outputs": [],
   "source": [
    "import pandas as pd # lese data fra csv-fil og bruke DataFrames\n",
    "import seaborn as sns # plotting\n",
    "sns.set(style = 'whitegrid', font_scale = 1.5) # utseende av plott\n",
    "import matplotlib.pyplot as plt # mer plotting\n",
    "import numpy as np # matematikk\n",
    "import statsmodels.api as sms # regresjonen\n",
    "import statsmodels.formula.api as smf # formel for regresjonen"
   ]
  },
  {
   "cell_type": "markdown",
   "metadata": {},
   "source": [
    "## Eksempel 1: Sykkel\n",
    "\n",
    "Datasettet 'sykkel.csv' inneholder registrert kaloriforbruk, tid og høyeste målte puls (makspuls) på 38 innendørs sykkel-økter. Tid og puls ble registrert med en treningsklokke, og treningsklokka har en innebygd algoritme som (sammen med konstanter slik som personens kjønn, alder, vekt, ...) beregner kaloriforbruket på en treningsøkt. For denne typen treningsøkter skal vi avgjøre om det er tid eller makspuls (høyeste målte puls) som er den beste forklaringsvariabelen for kaloriforbruk. "
   ]
  },
  {
   "cell_type": "markdown",
   "metadata": {},
   "source": [
    "### Steg 1: Lese inn og se på dataene\n",
    "\n",
    "Vi leser inn datasettet 'sykkel.csv' og plotter `y = Kalorier` mot `x = MaksPuls` og `y = Kalorier` mot `x = Tid` med en plottefunksjon som også viser estimert regresjonslinje og 95% konfidensintervall for linja. Kanskje ser du allerede hvilken modell som vi ha høyeste $R^2$, alså høyeste andel forklart varians i kaloriforbruk? "
   ]
  },
  {
   "cell_type": "code",
   "execution_count": null,
   "metadata": {},
   "outputs": [],
   "source": [
    "dfsykkel = pd.read_csv('https://www.math.ntnu.no/emner/IST100x/python_felles/sykkel.csv') # lese inn datasettet\n",
    "dfsykkel.head()"
   ]
  },
  {
   "cell_type": "code",
   "execution_count": null,
   "metadata": {},
   "outputs": [],
   "source": [
    "plt.subplot(1, 2, 1)\n",
    "sns.regplot(x='MaksPuls', y='Kalorier', data=dfsykkel)\n",
    "plt.ylim(290,510)\n",
    "\n",
    "plt.subplot(1, 2, 2)\n",
    "sns.regplot(x='Tid', y='Kalorier', color =\"g\", data=dfsykkel)\n",
    "plt.ylim(290,510)\n",
    "\n",
    "plt.tight_layout(); plt.show()"
   ]
  },
  {
   "cell_type": "markdown",
   "metadata": {},
   "source": [
    "### Steg 2: Tilpasse regresjonsmodell\n",
    "\n",
    "I koden nedenfor har vi tilpasset en slik lineær regresjonsmodell for `Kalorier` som funksjon av på `MaksPuls`. Finn ut hvor god modellen er, og sammenlign med en ny modell der du bytter ut `MaksPuls` med `Tid`. "
   ]
  },
  {
   "cell_type": "code",
   "execution_count": null,
   "metadata": {},
   "outputs": [],
   "source": [
    "sykkelmodell = smf.ols('Kalorier~MaksPuls', data=dfsykkel).fit()\n",
    "sykkelmodell.summary()"
   ]
  },
  {
   "cell_type": "markdown",
   "metadata": {},
   "source": [
    "## Eksempel 2: Simulerte data i tre ulike datasett\n",
    "\n",
    "Vi har generert tre ulike datasett som hver inneholder observasjoner av en kovariat ($x$) en responsvariabel $y$. "
   ]
  },
  {
   "cell_type": "code",
   "execution_count": null,
   "metadata": {},
   "outputs": [],
   "source": [
    "filA=\"https://www.math.ntnu.no/emner/IST100x/python_felles/dataA.csv\"\n",
    "filB=\"https://www.math.ntnu.no/emner/IST100x/python_felles/dataB.csv\"\n",
    "filC=\"https://www.math.ntnu.no/emner/IST100x/python_felles/dataC.csv\""
   ]
  },
  {
   "cell_type": "code",
   "execution_count": null,
   "metadata": {},
   "outputs": [],
   "source": [
    "minfil=filA # endre til hvilken fil du skal bruke\n",
    "df = pd.read_csv(minfil)\n",
    "df.head()"
   ]
  },
  {
   "cell_type": "markdown",
   "metadata": {},
   "source": [
    "### Steg 1: Kryssplott\n",
    "\n",
    "Under finner du et kryssplott av x mot y. Hvilken sammenheng er det mellom x og y?\n",
    "\n",
    "- trolig ingen?\n",
    "- positiv lineær sammenheng?\n",
    "- negativ lineær sammenheng?\n",
    "- ikke-lineær sammenheng?"
   ]
  },
  {
   "cell_type": "code",
   "execution_count": null,
   "metadata": {},
   "outputs": [],
   "source": [
    "sns.relplot(x=\"x\", y=\"y\",data = df)\n",
    "\n",
    "print(df.corr()) # dette er en matrise med korrelasjonskoeffisienten i element 2,1 og 1,2"
   ]
  },
  {
   "cell_type": "markdown",
   "metadata": {},
   "source": [
    "### Steg 2: Tilpasse regresjonsmodell"
   ]
  },
  {
   "cell_type": "code",
   "execution_count": null,
   "metadata": {},
   "outputs": [],
   "source": [
    "modell = smf.ols('y~x',df).fit()\n",
    "modell.summary()"
   ]
  }
 ],
 "metadata": {
  "kernelspec": {
   "display_name": "Python 3 (ipykernel)",
   "language": "python",
   "name": "python3"
  },
  "language_info": {
   "codemirror_mode": {
    "name": "ipython",
    "version": 3
   },
   "file_extension": ".py",
   "mimetype": "text/x-python",
   "name": "python",
   "nbconvert_exporter": "python",
   "pygments_lexer": "ipython3",
   "version": "3.9.12"
  }
 },
 "nbformat": 4,
 "nbformat_minor": 4
}
